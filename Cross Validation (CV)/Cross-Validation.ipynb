{
 "cells": [
  {
   "cell_type": "markdown",
   "id": "755e06fa",
   "metadata": {},
   "source": [
    "# Cross Validation"
   ]
  },
  {
   "cell_type": "markdown",
   "id": "846c3c9c",
   "metadata": {},
   "source": [
    "**Cross Validation is used to overcome randomness in accuracy as in random_state = If we change values the accuracy change so we use Cross Validation to overcome this.**\n",
    "- **CV methods avoids the problem of your metric of choice being dependent on the train_test_split**."
   ]
  },
  {
   "cell_type": "markdown",
   "id": "e513f252",
   "metadata": {},
   "source": [
    "\" Cross-Validation(CV) is used because splitting the data into the train and test set and use 70% (example) data for train and 30% (example) for test is good but 30% also contains pecularities point so here to overcome this CV comes in frame CV use whole data by given CV= no, what is the no. it divides the dataa into that pieces , take each piece as test and other as train one by one so all the data is use as train and test. \"\""
   ]
  },
  {
   "cell_type": "code",
   "execution_count": 35,
   "id": "4ec8c057",
   "metadata": {},
   "outputs": [],
   "source": [
    "from sklearn.linear_model import LogisticRegression\n",
    "from sklearn.svm import SVC\n",
    "from sklearn.ensemble import RandomForestClassifier"
   ]
  },
  {
   "cell_type": "code",
   "execution_count": 36,
   "id": "3ba894e8",
   "metadata": {},
   "outputs": [],
   "source": [
    "import numpy as np\n",
    "import pandas as pd\n",
    "import matplotlib.pyplot as plt\n",
    "import warnings\n",
    "warnings.filterwarnings(\"ignore\")"
   ]
  },
  {
   "cell_type": "code",
   "execution_count": 37,
   "id": "79b539aa",
   "metadata": {},
   "outputs": [],
   "source": [
    "from sklearn.datasets import load_digits\n",
    "digits = load_digits()"
   ]
  },
  {
   "cell_type": "code",
   "execution_count": 38,
   "id": "0d388253",
   "metadata": {},
   "outputs": [],
   "source": [
    "from sklearn.model_selection import train_test_split\n",
    "X_train ,X_test , y_train , y_test = train_test_split(digits.data , digits.target , test_size = 0.3)"
   ]
  },
  {
   "cell_type": "code",
   "execution_count": 39,
   "id": "a68d3a09",
   "metadata": {},
   "outputs": [
    {
     "data": {
      "text/plain": [
       "0.9629629629629629"
      ]
     },
     "execution_count": 39,
     "metadata": {},
     "output_type": "execute_result"
    }
   ],
   "source": [
    "lr = LogisticRegression()\n",
    "lr.fit(X_train , y_train)\n",
    "lr.score(X_test , y_test)"
   ]
  },
  {
   "cell_type": "code",
   "execution_count": 40,
   "id": "2f2eb073",
   "metadata": {},
   "outputs": [
    {
     "data": {
      "text/plain": [
       "0.9888888888888889"
      ]
     },
     "execution_count": 40,
     "metadata": {},
     "output_type": "execute_result"
    }
   ],
   "source": [
    "svm = SVC()\n",
    "svm.fit(X_train , y_train)\n",
    "svm.score(X_test , y_test)"
   ]
  },
  {
   "cell_type": "code",
   "execution_count": 41,
   "id": "6a1607f7",
   "metadata": {},
   "outputs": [
    {
     "data": {
      "text/plain": [
       "0.9740740740740741"
      ]
     },
     "execution_count": 41,
     "metadata": {},
     "output_type": "execute_result"
    }
   ],
   "source": [
    "rdf = RandomForestClassifier(n_estimators=30)\n",
    "rdf.fit(X_train , y_train)\n",
    "rdf.score(X_test , y_test)"
   ]
  },
  {
   "cell_type": "code",
   "execution_count": 42,
   "id": "39bc53b9",
   "metadata": {},
   "outputs": [],
   "source": [
    "from sklearn.model_selection import cross_val_score"
   ]
  },
  {
   "cell_type": "code",
   "execution_count": 47,
   "id": "947fb73a",
   "metadata": {},
   "outputs": [
    {
     "data": {
      "text/plain": [
       "array([0.92222222, 0.86944444, 0.94150418, 0.93871866, 0.89693593])"
      ]
     },
     "execution_count": 47,
     "metadata": {},
     "output_type": "execute_result"
    }
   ],
   "source": [
    "cv = cross_val_score(lr , digits.data , digits.target , cv = 5)\n",
    "cv"
   ]
  },
  {
   "cell_type": "code",
   "execution_count": 44,
   "id": "c3adda1c",
   "metadata": {},
   "outputs": [],
   "source": [
    "def cv_score(model , X_train , y_train , n):\n",
    "    cvs = cross_val_score(model , X_train , y_train , cv = n)\n",
    "    return cvs"
   ]
  },
  {
   "cell_type": "code",
   "execution_count": 52,
   "id": "990511ce",
   "metadata": {},
   "outputs": [],
   "source": [
    "randomforest_score = cv_score(rdf , digits.data , digits.target , 5)"
   ]
  },
  {
   "cell_type": "code",
   "execution_count": 50,
   "id": "665a3236",
   "metadata": {},
   "outputs": [],
   "source": [
    "svm_score = cv_score(svm , digits.data , digits.target , 5)"
   ]
  },
  {
   "cell_type": "code",
   "execution_count": 51,
   "id": "c87ea9dd",
   "metadata": {},
   "outputs": [],
   "source": [
    "lregression_score = cv_score(lr , digits.data , digits.target , 5 )"
   ]
  },
  {
   "cell_type": "code",
   "execution_count": 54,
   "id": "4b494b6e",
   "metadata": {},
   "outputs": [
    {
     "data": {
      "text/plain": [
       "0.9243392138656763"
      ]
     },
     "execution_count": 54,
     "metadata": {},
     "output_type": "execute_result"
    }
   ],
   "source": [
    "np.average(randomforest_score)"
   ]
  },
  {
   "cell_type": "code",
   "execution_count": 55,
   "id": "1ede6eec",
   "metadata": {},
   "outputs": [
    {
     "data": {
      "text/plain": [
       "0.9632838130609718"
      ]
     },
     "execution_count": 55,
     "metadata": {},
     "output_type": "execute_result"
    }
   ],
   "source": [
    "np.average(svm_score)"
   ]
  },
  {
   "cell_type": "code",
   "execution_count": 56,
   "id": "5781df63",
   "metadata": {},
   "outputs": [
    {
     "data": {
      "text/plain": [
       "0.9137650882079852"
      ]
     },
     "execution_count": 56,
     "metadata": {},
     "output_type": "execute_result"
    }
   ],
   "source": [
    "np.average(lregression_score)"
   ]
  },
  {
   "cell_type": "code",
   "execution_count": null,
   "id": "df56b3a2",
   "metadata": {},
   "outputs": [],
   "source": []
  }
 ],
 "metadata": {
  "kernelspec": {
   "display_name": "Python 3",
   "language": "python",
   "name": "python3"
  },
  "language_info": {
   "codemirror_mode": {
    "name": "ipython",
    "version": 3
   },
   "file_extension": ".py",
   "mimetype": "text/x-python",
   "name": "python",
   "nbconvert_exporter": "python",
   "pygments_lexer": "ipython3",
   "version": "3.8.8"
  }
 },
 "nbformat": 4,
 "nbformat_minor": 5
}
